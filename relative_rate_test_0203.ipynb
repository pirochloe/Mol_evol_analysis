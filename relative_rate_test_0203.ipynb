{
 "cells": [
  {
   "cell_type": "code",
   "execution_count": 3,
   "metadata": {},
   "outputs": [
    {
     "name": "stdout",
     "output_type": "stream",
     "text": [
      "Homo/Mus\n",
      "0.6303901437371664\n",
      "0.39707703740401284\n",
      "Homo/Bos\n",
      "1.1601642710472282\n",
      "0.9583868481890568\n",
      "Mus/Bos\n",
      "1.756476683937824\n",
      "2.2840381991814453\n",
      "---------------------------------\n",
      "Homo/Mus\n",
      "0.592778335005015\n",
      "0.39603960396039606\n",
      "Homo/Bos\n",
      "1.2008368200836819\n",
      "0.9483772041911577\n",
      "Mus/Bos\n",
      "1.9177330895795242\n",
      "2.2715411796683878\n"
     ]
    }
   ],
   "source": [
    "import numpy as np\n",
    "import scipy as sp\n",
    "import pandas as pd\n",
    "from pandas import Series,DataFrame\n",
    "\n",
    "domain_data=pd.read_csv(\"GLIS3_mammal.csv\")\n",
    "domain_data=domain_data.dropna(how='all')\n",
    "vh=domain_data.iat[3,7]+domain_data.iat[0,7]-domain_data.iat[6,7] #Triを外群としてテスト\n",
    "vm=domain_data.iat[6,7]+domain_data.iat[0,7]-domain_data.iat[3,7]\n",
    "VH=domain_data.iat[3,3]+domain_data.iat[0,3]-domain_data.iat[6,3] \n",
    "VM=domain_data.iat[6,3]+domain_data.iat[0,3]-domain_data.iat[3,3]\n",
    "\n",
    "a1=vh/vm\n",
    "s1=VH/VM\n",
    "\n",
    "vh=domain_data.iat[3,7]+domain_data.iat[1,7]-domain_data.iat[8,7]  \n",
    "vb=domain_data.iat[8,7]+domain_data.iat[1,7]-domain_data.iat[3,7]\n",
    "VH=domain_data.iat[3,3]+domain_data.iat[1,3]-domain_data.iat[8,3] \n",
    "VB=domain_data.iat[8,3]+domain_data.iat[1,3]-domain_data.iat[3,3]\n",
    "\n",
    "a2=vh/vb\n",
    "s2=VH/VB\n",
    "\n",
    "vm=domain_data.iat[6,7]+domain_data.iat[4,7]-domain_data.iat[8,7] \n",
    "vb=domain_data.iat[8,7]+domain_data.iat[4,7]-domain_data.iat[6,7]\n",
    "VM=domain_data.iat[6,3]+domain_data.iat[4,3]-domain_data.iat[8,3] \n",
    "VB=domain_data.iat[8,3]+domain_data.iat[4,3]-domain_data.iat[6,3]\n",
    "\n",
    "a3=vm/vb\n",
    "s3=VM/VB\n",
    "\n",
    "\n",
    "\n",
    "vh=domain_data.iat[2,7]+domain_data.iat[0,7]-domain_data.iat[5,7] #Loxodonを外群としてテスト\n",
    "vm=domain_data.iat[5,7]+domain_data.iat[0,7]-domain_data.iat[2,7]\n",
    "VH=domain_data.iat[2,3]+domain_data.iat[0,3]-domain_data.iat[5,3] \n",
    "VM=domain_data.iat[5,3]+domain_data.iat[0,3]-domain_data.iat[2,3]\n",
    "\n",
    "A1=vh/vm\n",
    "S1=VH/VM\n",
    "\n",
    "vh=domain_data.iat[2,7]+domain_data.iat[1,7]-domain_data.iat[7,7]  \n",
    "vb=domain_data.iat[7,7]+domain_data.iat[1,7]-domain_data.iat[2,7]\n",
    "VH=domain_data.iat[2,3]+domain_data.iat[1,3]-domain_data.iat[7,3] \n",
    "VB=domain_data.iat[7,3]+domain_data.iat[1,3]-domain_data.iat[2,3]\n",
    "\n",
    "A2=vh/vb\n",
    "S2=VH/VB\n",
    "\n",
    "vm=domain_data.iat[5,7]+domain_data.iat[4,7]-domain_data.iat[7,7] \n",
    "vb=domain_data.iat[7,7]+domain_data.iat[4,7]-domain_data.iat[5,7]\n",
    "VM=domain_data.iat[5,3]+domain_data.iat[4,3]-domain_data.iat[7,3] \n",
    "VB=domain_data.iat[7,3]+domain_data.iat[4,3]-domain_data.iat[5,3]\n",
    "\n",
    "A3=vm/vb\n",
    "S3=VM/VB\n",
    "\n",
    "print(\"Homo/Mus\")\n",
    "print(a1)\n",
    "print(s1)\n",
    "print(\"Homo/Bos\")\n",
    "print(a2)\n",
    "print(s2)\n",
    "print(\"Mus/Bos\")\n",
    "print(a3)\n",
    "print(s3)\n",
    "print(\"---------------------------------\")\n",
    "print(\"Homo/Mus\")\n",
    "print(A1)\n",
    "print(S1)\n",
    "print(\"Homo/Bos\")\n",
    "print(A2)\n",
    "print(S2)\n",
    "print(\"Mus/Bos\")\n",
    "print(A3)\n",
    "print(S3)\n",
    "\n",
    "\n"
   ]
  },
  {
   "cell_type": "code",
   "execution_count": 2,
   "metadata": {},
   "outputs": [
    {
     "name": "stdout",
     "output_type": "stream",
     "text": [
      "/Users/t_miyake/Documents\n"
     ]
    }
   ],
   "source": []
  }
 ],
 "metadata": {
  "kernelspec": {
   "display_name": "Python 3",
   "language": "python",
   "name": "python3"
  },
  "language_info": {
   "codemirror_mode": {
    "name": "ipython",
    "version": 3
   },
   "file_extension": ".py",
   "mimetype": "text/x-python",
   "name": "python",
   "nbconvert_exporter": "python",
   "pygments_lexer": "ipython3",
   "version": "3.8.3"
  }
 },
 "nbformat": 4,
 "nbformat_minor": 4
}
